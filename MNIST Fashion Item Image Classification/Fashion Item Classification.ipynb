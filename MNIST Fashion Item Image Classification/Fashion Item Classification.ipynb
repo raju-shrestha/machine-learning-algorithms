{
 "cells": [
  {
   "cell_type": "markdown",
   "metadata": {},
   "source": [
    "Importing MNIST Fashion Item Dataset"
   ]
  },
  {
   "cell_type": "code",
   "execution_count": 1,
   "metadata": {},
   "outputs": [
    {
     "name": "stderr",
     "output_type": "stream",
     "text": [
      "Using TensorFlow backend.\n"
     ]
    }
   ],
   "source": [
    "from keras.datasets import mnist\n",
    "\n",
    "(x_train, y_train), (x_test, y_test) = mnist.load_data()"
   ]
  },
  {
   "cell_type": "markdown",
   "metadata": {},
   "source": [
    "Checking shapes"
   ]
  },
  {
   "cell_type": "code",
   "execution_count": 2,
   "metadata": {},
   "outputs": [
    {
     "name": "stdout",
     "output_type": "stream",
     "text": [
      "(60000, 28, 28)\n",
      "(60000,)\n",
      "(10000, 28, 28)\n",
      "(10000,)\n"
     ]
    }
   ],
   "source": [
    "print(x_train.shape)\n",
    "print(y_train.shape)\n",
    "print(x_test.shape)\n",
    "print(y_test.shape)"
   ]
  },
  {
   "cell_type": "code",
   "execution_count": 3,
   "metadata": {},
   "outputs": [
    {
     "name": "stdout",
     "output_type": "stream",
     "text": [
      "5\n"
     ]
    }
   ],
   "source": [
    "one_image = x_train[0,:,:]\n",
    "#print(one_image)\n",
    "\n",
    "from PIL import Image\n",
    "img = Image.fromarray(one_image)\n",
    "img.show()\n",
    "\n",
    "print(y_train[0])"
   ]
  },
  {
   "cell_type": "code",
   "execution_count": 4,
   "metadata": {},
   "outputs": [
    {
     "data": {
      "text/plain": [
       "5"
      ]
     },
     "execution_count": 4,
     "metadata": {},
     "output_type": "execute_result"
    }
   ],
   "source": [
    "y_train[0]"
   ]
  },
  {
   "cell_type": "code",
   "execution_count": 5,
   "metadata": {},
   "outputs": [],
   "source": [
    "x_train = x_train.reshape((60000, 28*28))\n",
    "x_test = x_test.reshape((10000, 28*28))"
   ]
  },
  {
   "cell_type": "code",
   "execution_count": 6,
   "metadata": {},
   "outputs": [],
   "source": [
    "import keras\n",
    "y_train = keras.utils.to_categorical(y_train, 10)\n",
    "y_test = keras.utils.to_categorical(y_test, 10)"
   ]
  },
  {
   "cell_type": "code",
   "execution_count": 7,
   "metadata": {},
   "outputs": [
    {
     "data": {
      "text/plain": [
       "(60000, 10)"
      ]
     },
     "execution_count": 7,
     "metadata": {},
     "output_type": "execute_result"
    }
   ],
   "source": [
    "y_train.shape"
   ]
  },
  {
   "cell_type": "code",
   "execution_count": 8,
   "metadata": {},
   "outputs": [],
   "source": [
    "from keras.models import Sequential\n",
    "from keras.layers import Dense\n",
    "\n",
    "model = Sequential()\n",
    "model.add(Dense(units=128, activation='relu', input_shape=(28*28,)))\n",
    "model.add(Dense(units=32, activation='relu'))\n",
    "model.add(Dense(units=10, activation='softmax'))"
   ]
  },
  {
   "cell_type": "code",
   "execution_count": 9,
   "metadata": {},
   "outputs": [],
   "source": [
    "from keras import optimizers\n",
    "sgd = optimizers.SGD(lr=0.001)\n",
    "model.compile(loss='categorical_crossentropy', optimizer=sgd, metrics=['accuracy'])"
   ]
  },
  {
   "cell_type": "code",
   "execution_count": 10,
   "metadata": {},
   "outputs": [
    {
     "name": "stdout",
     "output_type": "stream",
     "text": [
      "Epoch 1/15\n",
      "60000/60000 [==============================] - 6s 107us/step - loss: 7.2406 - acc: 0.5419\n",
      "Epoch 2/15\n",
      "60000/60000 [==============================] - 6s 98us/step - loss: 5.6366 - acc: 0.6445\n",
      "Epoch 3/15\n",
      "60000/60000 [==============================] - 6s 99us/step - loss: 5.0854 - acc: 0.6781\n",
      "Epoch 4/15\n",
      "60000/60000 [==============================] - 6s 97us/step - loss: 4.0413 - acc: 0.7429\n",
      "Epoch 5/15\n",
      "60000/60000 [==============================] - 6s 98us/step - loss: 3.8598 - acc: 0.7546\n",
      "Epoch 6/15\n",
      "60000/60000 [==============================] - 6s 97us/step - loss: 3.3385 - acc: 0.7855\n",
      "Epoch 7/15\n",
      "60000/60000 [==============================] - 6s 98us/step - loss: 0.9803 - acc: 0.9287\n",
      "Epoch 8/15\n",
      "60000/60000 [==============================] - 6s 97us/step - loss: 0.7446 - acc: 0.9456\n",
      "Epoch 9/15\n",
      "60000/60000 [==============================] - 6s 95us/step - loss: 0.6286 - acc: 0.9525\n",
      "Epoch 10/15\n",
      "60000/60000 [==============================] - 6s 98us/step - loss: 0.5523 - acc: 0.9575\n",
      "Epoch 11/15\n",
      "60000/60000 [==============================] - 6s 98us/step - loss: 0.5050 - acc: 0.9605\n",
      "Epoch 12/15\n",
      "60000/60000 [==============================] - 6s 97us/step - loss: 0.4555 - acc: 0.9646\n",
      "Epoch 13/15\n",
      "60000/60000 [==============================] - 6s 98us/step - loss: 0.4066 - acc: 0.9667\n",
      "Epoch 14/15\n",
      "60000/60000 [==============================] - 6s 95us/step - loss: 0.3640 - acc: 0.9687\n",
      "Epoch 15/15\n",
      "60000/60000 [==============================] - 6s 97us/step - loss: 0.3128 - acc: 0.9714\n"
     ]
    },
    {
     "data": {
      "text/plain": [
       "<keras.callbacks.History at 0x2dba0210550>"
      ]
     },
     "execution_count": 10,
     "metadata": {},
     "output_type": "execute_result"
    }
   ],
   "source": [
    "model.fit(x_train, y_train, epochs=15, batch_size=32)"
   ]
  },
  {
   "cell_type": "code",
   "execution_count": 11,
   "metadata": {},
   "outputs": [
    {
     "name": "stdout",
     "output_type": "stream",
     "text": [
      "10000/10000 [==============================] - 0s 48us/step\n"
     ]
    },
    {
     "data": {
      "text/plain": [
       "[0.4524629766831588, 0.9589]"
      ]
     },
     "execution_count": 11,
     "metadata": {},
     "output_type": "execute_result"
    }
   ],
   "source": [
    "model.evaluate(x_test, y_test)"
   ]
  },
  {
   "cell_type": "code",
   "execution_count": null,
   "metadata": {},
   "outputs": [],
   "source": []
  }
 ],
 "metadata": {
  "kernelspec": {
   "display_name": "Python 3",
   "language": "python",
   "name": "python3"
  },
  "language_info": {
   "codemirror_mode": {
    "name": "ipython",
    "version": 3
   },
   "file_extension": ".py",
   "mimetype": "text/x-python",
   "name": "python",
   "nbconvert_exporter": "python",
   "pygments_lexer": "ipython3",
   "version": "3.6.6"
  }
 },
 "nbformat": 4,
 "nbformat_minor": 2
}
