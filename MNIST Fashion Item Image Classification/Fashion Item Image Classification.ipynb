{
 "cells": [
  {
   "cell_type": "markdown",
   "metadata": {},
   "source": [
    "Importing MNIST Fashion Item Dataset"
   ]
  },
  {
   "cell_type": "code",
   "execution_count": 1,
   "metadata": {},
   "outputs": [
    {
     "name": "stderr",
     "output_type": "stream",
     "text": [
      "Using TensorFlow backend.\n"
     ]
    }
   ],
   "source": [
    "from keras.datasets import fashion_mnist\n",
    "\n",
    "(x_train, y_train), (x_test, y_test) = fashion_mnist.load_data()"
   ]
  },
  {
   "cell_type": "markdown",
   "metadata": {},
   "source": [
    "checking shapes"
   ]
  },
  {
   "cell_type": "code",
   "execution_count": 2,
   "metadata": {},
   "outputs": [
    {
     "name": "stdout",
     "output_type": "stream",
     "text": [
      "(60000, 28, 28)\n",
      "(60000,)\n",
      "(10000, 28, 28)\n",
      "(10000,)\n"
     ]
    }
   ],
   "source": [
    "print(x_train.shape)\n",
    "print(y_train.shape)\n",
    "print(x_test.shape)\n",
    "print(y_test.shape)"
   ]
  },
  {
   "cell_type": "code",
   "execution_count": 3,
   "metadata": {},
   "outputs": [
    {
     "name": "stdout",
     "output_type": "stream",
     "text": [
      "9\n"
     ]
    }
   ],
   "source": [
    "one_image = x_train[0,:,:]\n",
    "\n",
    "from PIL import Image\n",
    "img = Image.fromarray(one_image)\n",
    "img.show()\n",
    "\n",
    "print(y_train[0])"
   ]
  },
  {
   "cell_type": "code",
   "execution_count": 4,
   "metadata": {},
   "outputs": [],
   "source": [
    "x_train = x_train.reshape((60000, 28*28))\n",
    "x_test = x_test.reshape((10000, 28*28))"
   ]
  },
  {
   "cell_type": "code",
   "execution_count": 5,
   "metadata": {},
   "outputs": [],
   "source": [
    "import keras\n",
    "y_train = keras.utils.to_categorical(y_train, 10)\n",
    "y_test = keras.utils.to_categorical(y_test, 10)"
   ]
  },
  {
   "cell_type": "code",
   "execution_count": 6,
   "metadata": {},
   "outputs": [
    {
     "data": {
      "text/plain": [
       "(60000, 10)"
      ]
     },
     "execution_count": 6,
     "metadata": {},
     "output_type": "execute_result"
    }
   ],
   "source": [
    "y_train.shape"
   ]
  },
  {
   "cell_type": "code",
   "execution_count": 7,
   "metadata": {},
   "outputs": [],
   "source": [
    "# Import keras model\n",
    "from keras.models import Sequential\n",
    "from keras.layers import Dense\n",
    "\n",
    "model = Sequential()\n",
    "model.add(Dense(units=128, activation='relu', input_shape=(28*28,)))\n",
    "model.add(Dense(units=32, activation='relu'))\n",
    "model.add(Dense(units=10, activation='softmax'))"
   ]
  },
  {
   "cell_type": "code",
   "execution_count": 8,
   "metadata": {},
   "outputs": [],
   "source": [
    "#Optimisze the value\n",
    "from keras import optimizers\n",
    "sgd = optimizers.SGD(lr=0.001)\n",
    "model.compile(loss='categorical_crossentropy', optimizer=sgd, metrics=['accuracy'])"
   ]
  },
  {
   "cell_type": "code",
   "execution_count": null,
   "metadata": {},
   "outputs": [
    {
     "name": "stdout",
     "output_type": "stream",
     "text": [
      "Epoch 1/25\n",
      "60000/60000 [==============================] - 7s 115us/step - loss: 8.2564 - acc: 0.4816\n",
      "Epoch 2/25\n",
      "60000/60000 [==============================] - 7s 108us/step - loss: 5.6663 - acc: 0.6415\n",
      "Epoch 3/25\n",
      "60000/60000 [==============================] - 7s 111us/step - loss: 4.9975 - acc: 0.6848\n",
      "Epoch 4/25\n",
      "60000/60000 [==============================] - 6s 107us/step - loss: 4.8145 - acc: 0.6977\n",
      "Epoch 5/25\n",
      "60000/60000 [==============================] - 7s 110us/step - loss: 4.8301 - acc: 0.6970\n",
      "Epoch 6/25\n",
      "60000/60000 [==============================] - 6s 104us/step - loss: 4.7027 - acc: 0.7047\n",
      "Epoch 7/25\n",
      "60000/60000 [==============================] - 6s 103us/step - loss: 4.5973 - acc: 0.7117\n",
      "Epoch 8/25\n",
      "60000/60000 [==============================] - 6s 105us/step - loss: 4.5797 - acc: 0.7121\n",
      "Epoch 9/25\n",
      "60000/60000 [==============================] - 6s 103us/step - loss: 4.6346 - acc: 0.7095\n",
      "Epoch 10/25\n",
      "60000/60000 [==============================] - 6s 102us/step - loss: 4.5295 - acc: 0.7167\n",
      "Epoch 11/25\n",
      "60000/60000 [==============================] - 6s 103us/step - loss: 4.6097 - acc: 0.7114\n",
      "Epoch 12/25\n",
      "60000/60000 [==============================] - 6s 103us/step - loss: 4.6159 - acc: 0.7114\n",
      "Epoch 13/25\n",
      "60000/60000 [==============================] - 7s 108us/step - loss: 4.4658 - acc: 0.7207\n",
      "Epoch 14/25\n",
      "60000/60000 [==============================] - 6s 103us/step - loss: 4.5753 - acc: 0.7137\n",
      "Epoch 15/25\n",
      "60000/60000 [==============================] - 6s 103us/step - loss: 4.4714 - acc: 0.7202\n",
      "Epoch 16/25\n",
      "60000/60000 [==============================] - 6s 102us/step - loss: 4.4332 - acc: 0.7225\n",
      "Epoch 17/25\n",
      "60000/60000 [==============================] - 6s 101us/step - loss: 4.4473 - acc: 0.7218\n",
      "Epoch 18/25\n",
      "60000/60000 [==============================] - 6s 101us/step - loss: 4.5177 - acc: 0.7174\n",
      "Epoch 19/25\n",
      "60000/60000 [==============================] - 6s 99us/step - loss: 4.5647 - acc: 0.7147\n",
      "Epoch 20/25\n",
      "33810/60000 [===============>..............] - ETA: 2s - loss: 4.3635 - acc: 0.7271"
     ]
    }
   ],
   "source": [
    "# Fitting Model\n",
    "model.fit(x_train, y_train, epochs=25, batch_size=30)"
   ]
  },
  {
   "cell_type": "code",
   "execution_count": 52,
   "metadata": {},
   "outputs": [
    {
     "name": "stdout",
     "output_type": "stream",
     "text": [
      "10000/10000 [==============================] - 0s 33us/step\n"
     ]
    },
    {
     "data": {
      "text/plain": [
       "[0.44672214267253874, 0.8562]"
      ]
     },
     "execution_count": 52,
     "metadata": {},
     "output_type": "execute_result"
    }
   ],
   "source": [
    "model.evaluate(x_test, y_test)"
   ]
  },
  {
   "cell_type": "markdown",
   "metadata": {},
   "source": []
  }
 ],
 "metadata": {
  "kernelspec": {
   "display_name": "Python 3",
   "language": "python",
   "name": "python3"
  },
  "language_info": {
   "codemirror_mode": {
    "name": "ipython",
    "version": 3
   },
   "file_extension": ".py",
   "mimetype": "text/x-python",
   "name": "python",
   "nbconvert_exporter": "python",
   "pygments_lexer": "ipython3",
   "version": "3.6.6"
  }
 },
 "nbformat": 4,
 "nbformat_minor": 2
}
